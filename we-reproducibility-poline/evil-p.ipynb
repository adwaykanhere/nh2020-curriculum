{
 "cells": [
  {
   "cell_type": "markdown",
   "metadata": {},
   "source": [
    "# Compute a p-value - look at the effect size"
   ]
  },
  {
   "cell_type": "code",
   "execution_count": null,
   "metadata": {},
   "outputs": [],
   "source": [
    "import matplotlib.pyplot as plt\n",
    "%matplotlib inline\n",
    "import numpy as np\n",
    "import scipy.stats as sst\n",
    "\n",
    "from IPython.display import Image as Image\n",
    "from IPython.display import display as display\n"
   ]
  },
  {
   "cell_type": "markdown",
   "metadata": {},
   "source": [
    "## Create a normal distribution"
   ]
  },
  {
   "cell_type": "code",
   "execution_count": null,
   "metadata": {},
   "outputs": [],
   "source": [
    "np.random.seed(42) # 42 is arbitrary "
   ]
  },
  {
   "cell_type": "code",
   "execution_count": null,
   "metadata": {},
   "outputs": [],
   "source": [
    "# define the normal 0,1 object\n",
    "norm01 = sst.norm(0,1)\n",
    "# Let's fix the seed of the random generator\n",
    "sample_size = (30,)\n",
    "sample = norm01.rvs(size=sample_size)\n"
   ]
  },
  {
   "cell_type": "code",
   "execution_count": null,
   "metadata": {},
   "outputs": [],
   "source": [
    "# compute mean and corrected standard deviation\n",
    "sample_mean = sample.mean()\n",
    "#sample_std_biased = sample.std()\n",
    "sample_std = np.sqrt(np.var(sample, ddof=1))\n",
    "# print(sample_std,sample_std_biased)\n",
    "N = len(sample)\n",
    "\n",
    "print(\"sample mean: \",sample_mean, \"sample_std: \", sample_std)"
   ]
  },
  {
   "cell_type": "markdown",
   "metadata": {},
   "source": [
    "## compute the t-value and corresponding p-value"
   ]
  },
  {
   "cell_type": "code",
   "execution_count": null,
   "metadata": {},
   "outputs": [],
   "source": [
    "t_value = sample_mean / (sample_std/np.sqrt(N))\n",
    "print(t_value)"
   ]
  },
  {
   "cell_type": "code",
   "execution_count": null,
   "metadata": {},
   "outputs": [],
   "source": [
    "def t_value_from_sample(sample):\n",
    "    \"\"\"\n",
    "    Take a sample of data (numpy array) return t-value\n",
    "    \"\"\"\n",
    "    \n",
    "    N = len(sample)\n",
    "    sample_mean = sample.mean()\n",
    "    sample_std = np.sqrt(np.var(sample,ddof=1))\n",
    "    t_val = sample_mean / (sample_std/np.sqrt(N))\n",
    "    return t_val\n",
    "    "
   ]
  },
  {
   "cell_type": "code",
   "execution_count": null,
   "metadata": {},
   "outputs": [],
   "source": [
    "print(t_value_from_sample(sample))"
   ]
  },
  {
   "cell_type": "code",
   "execution_count": null,
   "metadata": {},
   "outputs": [],
   "source": [
    "N = len(sample)\n",
    "p_val = sst.t.sf(t_value_from_sample(sample), df=N-1)\n",
    "print(p_val)"
   ]
  },
  {
   "cell_type": "markdown",
   "metadata": {},
   "source": [
    "## Do this for a number of experiments"
   ]
  },
  {
   "cell_type": "code",
   "execution_count": null,
   "metadata": {},
   "outputs": [],
   "source": [
    "sample_size = 16\n",
    "distrib = sst.norm(.22, 1)\n",
    "nb_of_experiments = 20\n",
    "alpha = 0.05\n",
    "\n",
    "effect_size = []\n",
    "\n",
    "for idx in range(nb_of_experiments):\n",
    "    sample =  distrib.rvs(size=(sample_size,))\n",
    "    t_val = t_value_from_sample(sample)\n",
    "    p_val = sst.t.sf(t_value_from_sample(sample), df=sample_size-1)\n",
    "    signif = int(p_val <= alpha)\n",
    "    print(t_val, \"\\t\\t\", p_val,\"\\t\",  \"*\"*signif, )\n",
    "    if signif:\n",
    "        effect_size.append(sample.mean())\n",
    "\n",
    "print('\\n Effect_size corresponding to \"significant\" p-values: \\n', effect_size) "
   ]
  },
  {
   "cell_type": "code",
   "execution_count": null,
   "metadata": {},
   "outputs": [],
   "source": [
    "print(np.asanyarray(effect_size).mean(), np.asanyarray(effect_size).std())"
   ]
  },
  {
   "cell_type": "markdown",
   "metadata": {},
   "source": [
    "## Relate this to bias and file drawer effect"
   ]
  },
  {
   "cell_type": "markdown",
   "metadata": {},
   "source": [
    "# The p-hacking problem"
   ]
  },
  {
   "cell_type": "code",
   "execution_count": null,
   "metadata": {},
   "outputs": [],
   "source": [
    "img = Image('./figures/simons_table.png')\n",
    "display(img)"
   ]
  },
  {
   "cell_type": "markdown",
   "metadata": {},
   "source": [
    "# Revise alpha "
   ]
  },
  {
   "cell_type": "markdown",
   "metadata": {},
   "source": [
    "### Recent and less recent attempts to change the standard alpha"
   ]
  },
  {
   "cell_type": "code",
   "execution_count": null,
   "metadata": {},
   "outputs": [],
   "source": [
    "print(\"Johnson, V.E. (2013). Revised standards for statistical evidence. \" + \n",
    "                             \"PNAS 110, 19313–19317.\")\n",
    "Image('./figures/johnson_PNAS_2013_significance.png')\n"
   ]
  },
  {
   "cell_type": "code",
   "execution_count": null,
   "metadata": {},
   "outputs": [],
   "source": [
    "Image('./figures/johnson_PNAS_2013_pval_bayefct.png')\n"
   ]
  },
  {
   "cell_type": "markdown",
   "metadata": {
    "slideshow": {
     "slide_type": "slide"
    }
   },
   "source": [
    "## Quick effect size reminder"
   ]
  },
  {
   "cell_type": "markdown",
   "metadata": {
    "slideshow": {
     "slide_type": "fragment"
    }
   },
   "source": [
    "### What is the effect ?\n",
    "\n",
    "\n",
    "$$\\hspace{3cm}\\mu = \\mu_1 - \\mu_2$$"
   ]
  },
  {
   "cell_type": "markdown",
   "metadata": {
    "slideshow": {
     "slide_type": "fragment"
    }
   },
   "source": [
    "### What is the standardized effect ? (eg Cohen's d)\n",
    "\n",
    "$$\\hspace{3cm}d = \\frac{\\mu_1 - \\mu_2}{\\sigma} = \\frac{\\mu}{\\sigma}$$"
   ]
  },
  {
   "cell_type": "markdown",
   "metadata": {
    "slideshow": {
     "slide_type": "fragment"
    }
   },
   "source": [
    "### \"Z\" : Effect accounting for the sample size \n",
    "\n",
    "$$\\hspace{3cm}Z = \\frac{\\mu}{\\sigma / \\sqrt{n}}$$"
   ]
  },
  {
   "cell_type": "markdown",
   "metadata": {
    "slideshow": {
     "slide_type": "slide"
    }
   },
   "source": [
    "### Cohen's d value:"
   ]
  },
  {
   "cell_type": "code",
   "execution_count": null,
   "metadata": {
    "slideshow": {
     "slide_type": "fragment"
    }
   },
   "outputs": [],
   "source": [
    "# print some cohen values\n",
    "# %pylab inline\n",
    "muse = (.05, .1,.2,.3,.4,.5);\n",
    "sigmas = np.linspace(1.,.5,len(muse))\n",
    "cohenstr = [\"For sigma = %3.2f and m = %3.2f Cohen d = %3.2f\" %(sig,mu,coh) \n",
    "       for (sig,mu,coh) in zip(sigmas,muse, np.asarray(muse)/sigmas)]\n",
    "for s in cohenstr:\n",
    "    print(s)"
   ]
  },
  {
   "cell_type": "markdown",
   "metadata": {
    "slideshow": {
     "slide_type": "fragment"
    }
   },
   "source": [
    "We have to estimate the effect $\\mu$ and the standard deviation $\\sigma_{\\mu}$, the t statistic would be:\n",
    "\n",
    "$$\n",
    "t = \\frac{\\hat{\\mu}}{\\hat{\\sigma_{\\mu}}} \n",
    "$$\n",
    "\n",
    "Where $\\hat{\\sigma_{\\mu}}$ is estimated with the standard deviation of the data Y and the number of sample $n$ : $\\hat{\\sigma_{Y}}/\\sqrt{n}$ "
   ]
  },
  {
   "cell_type": "code",
   "execution_count": null,
   "metadata": {},
   "outputs": [],
   "source": []
  },
  {
   "cell_type": "code",
   "execution_count": null,
   "metadata": {},
   "outputs": [],
   "source": []
  },
  {
   "cell_type": "markdown",
   "metadata": {},
   "source": [
    "## Confidence intervals"
   ]
  },
  {
   "cell_type": "markdown",
   "metadata": {},
   "source": [
    "$$ P\\left(\\bigg|\\frac{\\bar{Y} - \\mu}{\\hat\\sigma/\\sqrt{n}}\\bigg| \\leq t_{0.025}\\right) = 0.05 $$ "
   ]
  },
  {
   "cell_type": "markdown",
   "metadata": {},
   "source": [
    "$$ P\\left( -t_{0.025}\\hat\\sigma/\\sqrt{n} + \\bar{Y}  \\leq \\mu \\leq t_{0.025}\\hat\\sigma/\\sqrt{n} + \\bar{Y}   \\right) = 0.05 $$ "
   ]
  },
  {
   "cell_type": "code",
   "execution_count": null,
   "metadata": {},
   "outputs": [],
   "source": [
    "def confidence_intervals(Nexp, CI = .95, **prmtrs):\n",
    "    \"\"\"\n",
    "    Nexp: the number of experiments done\n",
    "    CI: confidence interval\n",
    "    \n",
    "    prmtrs: a dictionary with our parameters, \n",
    "        example: prmtrs = {'n':16, 'mu':.3, 'sigma': 1., 'alpha': 0.05}\n",
    "        \n",
    "    returns arrays of size Nexp with:\n",
    "    effect: the estimated effect\n",
    "    detect: an array of 0 or 1, 1 when the effect is detected at alpha\n",
    "    lCI: lower bound of confidence interval\n",
    "    uCI: upper bound of confidence interval\n",
    "    \"\"\"\n",
    "    # unpack parameters:\n",
    "    n = prmtrs['n']\n",
    "    mu = prmtrs['mu']; \n",
    "    alpha = prmtrs['alpha']; \n",
    "    sigma = prmtrs['sigma']\n",
    "    df = n-1\n",
    "    theta = mu*np.sqrt(n)/sigma\n",
    "    \n",
    "    # initialize arrays\n",
    "    t = np.zeros((Nexp,))\n",
    "    effect = np.zeros((Nexp,))\n",
    "    lCI = np.zeros((Nexp,))\n",
    "    uCI = np.zeros((Nexp,))\n",
    "\n",
    "    # compute random variables and thresholds\n",
    "    norv = sst.norm(0., sigma)\n",
    "    strv = sst.t(df)\n",
    "    # get the 0.05 t value *under the null* to construct confidence interval\n",
    "    \n",
    "    t_ci = strv.isf((1-CI)/2)\n",
    "    # get the alpha level t value *under the null* to detect \n",
    "    t_alph = strv.isf(alpha)\n",
    "\n",
    "    for experim in range(Nexp):\n",
    "        # get n sample\n",
    "        sample = norv.rvs(size=(n,)) + mu\n",
    "        # effect and normalized effect size\n",
    "        effect[experim] = sample.mean()\n",
    "        std_error_data = np.std(sample, ddof=1) \n",
    "        std_error_mean = std_error_data/np.sqrt(n) # np.std takes ddof as \n",
    "                                                    # the df of freedom lost, here: 1.\n",
    "        t[experim] = effect[experim]/std_error_mean\n",
    "        # confidence interval :\n",
    "        CI_ = t_ci*std_error_mean\n",
    "        lCI[experim] = effect[experim] - CI_ # t_alph # \n",
    "        uCI[experim] = effect[experim] + CI_ # t_alph # \n",
    "\n",
    "    # number of detection:\n",
    "    detect = t>t_alph\n",
    "#    print 'number of detections:', xd.shape\n",
    "\n",
    "    return (effect, detect, lCI, uCI, t)"
   ]
  },
  {
   "cell_type": "code",
   "execution_count": null,
   "metadata": {},
   "outputs": [],
   "source": [
    "#---------------------- parameters ------------------#\n",
    "prmtrs = {'n':10, 'mu': .30, 'sigma': 1., 'alpha': 0.05}\n",
    "\n",
    "theta = prmtrs['mu']*np.sqrt(prmtrs['n'])/prmtrs['sigma']\n",
    "print('Theta value %.3f \\n' %theta)\n",
    "#Pw = stat_power(prmtrs['n'], prmtrs['mu'], alpha=prmtrs['alpha'])\n",
    "\n",
    "\n",
    "#--------------  simulate Nexp experiments ---------#\n",
    "Nexp = 1000\n",
    "effect, detect, lCI, uCI, t = confidence_intervals(Nexp, CI=.95, **prmtrs)\n",
    "print('Average t {:.3f} \\n'.format(t.mean()))\n",
    "\n",
    "\n",
    "#print(\"Compare power {:.3} and rate of detection {:.3} \".format(Pw, detect.sum()/Nexp))\n",
    "\n",
    "print(\"Mean effect {:.3f} compared to average detected effect {:.3f} \\n\".format(\n",
    "                    effect.mean(), effect[detect].mean()))\n",
    "\n",
    "print(\"\\n-------------- on detections\")\n",
    "\n",
    "print(\"-- # of exp. where lower bound > mu: {}\".format((lCI[detect]>prmtrs['mu']).sum()))\n",
    "print(\"-- # of exp. where upper bound < mu: {}\".format((uCI[detect]<prmtrs['mu']).sum()))\n",
    "not_in_CI = (uCI[detect]<prmtrs['mu']).sum() + (lCI[detect]>prmtrs['mu']).sum()\n",
    "print(\"-- Not in CI = {:.3f}\".format(not_in_CI))\n",
    "print(\"-- over {} of detections\".format(detect.sum()))\n",
    "print(\"-- percentage = {:.3f}\".format(not_in_CI/detect.sum()))\n",
    "\n",
    "\n",
    "print(\"\\n-------------- all experiment, not only detected\")\n",
    "\n",
    "print(\"-- # of exp. where lower bound > mu: {}\".format((lCI>prmtrs['mu']).sum()))\n",
    "print(\"-- # of exp. where upper bound < mu: {}\".format((uCI<prmtrs['mu']).sum()))\n",
    "print(\"-- over {} experiments\".format(Nexp))\n",
    "print(\"-- percentage = {:.3f}\".format(\n",
    "      ((lCI>prmtrs['mu']).sum() + (uCI<prmtrs['mu']).sum())/Nexp))"
   ]
  },
  {
   "cell_type": "code",
   "execution_count": null,
   "metadata": {},
   "outputs": [],
   "source": [
    "#--------------  plot ------------------------------#\n",
    "mu = prmtrs['mu']\n",
    "x = np.arange(Nexp)\n",
    "xd = np.arange(detect.sum())\n",
    "mu_line = np.ones((Nexp,))*prmtrs['mu']\n",
    "\n",
    "# print the number of lower confidence interval values that are above the true mean:\n",
    "# this should be about the risk of error/2\n",
    "print(\"lCI > mu :  {:.3}, compare with {:.3} \".format( \n",
    "                (lCI > mu).sum() / (1.*detect.sum()),  prmtrs['alpha'])) #\n",
    "print(Nexp)\n",
    "# there should be none of these:\n",
    "# print \"(lCI < 0 \", (lCI[detect] < 0).sum() / detect.sum()\n",
    "\n",
    "f = plt.figure(1).set_size_inches(12,4)\n",
    "lines = plt.plot(xd, lCI[detect], 'g-', \n",
    "                 xd, effect[detect], 'b--',\n",
    "                 xd, uCI[detect], 'r-',\n",
    "                 xd, mu_line[detect], 'k');\n",
    "plt.legend( lines, ('lower_bound','detected Effect', 'Upper bound', 'True effect'), \n",
    "                   loc='upper right', shadow=True)\n",
    "plt.xlabel(\" One x is one experiment where detection occured\", fontdict={'size':14})\n",
    "plt.ylabel(\" Effect value and confidence interval \", fontdict={'size':14})\n",
    "plt.title(\" Detected effects and their confidence interval\", fontdict={'size':16});"
   ]
  },
  {
   "cell_type": "markdown",
   "metadata": {},
   "source": [
    "## What happens if ..."
   ]
  },
  {
   "cell_type": "markdown",
   "metadata": {},
   "source": [
    "### Type I error is stricter \n"
   ]
  },
  {
   "cell_type": "markdown",
   "metadata": {},
   "source": [
    "### sample size goes down"
   ]
  },
  {
   "cell_type": "code",
   "execution_count": null,
   "metadata": {},
   "outputs": [],
   "source": []
  },
  {
   "cell_type": "code",
   "execution_count": null,
   "metadata": {},
   "outputs": [],
   "source": []
  },
  {
   "cell_type": "code",
   "execution_count": null,
   "metadata": {},
   "outputs": [],
   "source": []
  }
 ],
 "metadata": {
  "kernelspec": {
   "display_name": "Python 3",
   "language": "python",
   "name": "python3"
  },
  "language_info": {
   "codemirror_mode": {
    "name": "ipython",
    "version": 3
   },
   "file_extension": ".py",
   "mimetype": "text/x-python",
   "name": "python",
   "nbconvert_exporter": "python",
   "pygments_lexer": "ipython3",
   "version": "3.7.8"
  },
  "toc": {
   "nav_menu": {},
   "number_sections": true,
   "sideBar": true,
   "skip_h1_title": false,
   "toc_cell": false,
   "toc_position": {},
   "toc_section_display": "block",
   "toc_window_display": false
  }
 },
 "nbformat": 4,
 "nbformat_minor": 4
}
